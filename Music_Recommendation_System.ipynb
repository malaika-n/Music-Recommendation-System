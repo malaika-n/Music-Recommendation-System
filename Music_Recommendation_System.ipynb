{
  "nbformat": 4,
  "nbformat_minor": 0,
  "metadata": {
    "colab": {
      "provenance": [],
      "authorship_tag": "ABX9TyPx6mIRFeRD9IWHrxku61Ey"
    },
    "kernelspec": {
      "name": "python3",
      "display_name": "Python 3"
    },
    "language_info": {
      "name": "python"
    }
  },
  "cells": [
    {
      "cell_type": "markdown",
      "source": [
        "## **Music Recommendation System using Python**"
      ],
      "metadata": {
        "id": "9uSiDStgA621"
      }
    },
    {
      "cell_type": "markdown",
      "source": [
        "* A Music Recommendation System is an application that offers personalized music recommendations based on their preferences.\n",
        "* I will be using the Spotify API, to collect real-time music data from Spotify, and Python."
      ],
      "metadata": {
        "id": "TR5RhowJYk5z"
      }
    },
    {
      "cell_type": "markdown",
      "source": [
        "* To start I first need to have an access token.\n",
        "* The access token serves as a temporary authorization credential which allows the code to make authenticated requests to the Spotify API on behalf of the application."
      ],
      "metadata": {
        "id": "YD5w23fIZ_s6"
      }
    },
    {
      "cell_type": "code",
      "execution_count": 1,
      "metadata": {
        "colab": {
          "base_uri": "https://localhost:8080/"
        },
        "id": "VsYb4Ztw9Pkl",
        "outputId": "81a3cde3-2a78-4881-c16b-0a2ca80389d6"
      },
      "outputs": [
        {
          "output_type": "stream",
          "name": "stdout",
          "text": [
            "Access token obtained successfully.\n"
          ]
        }
      ],
      "source": [
        "import requests\n",
        "import base64\n",
        "\n",
        "# Using Client ID and Client Secret variables to hold credentials\n",
        "CLIENT_ID = 'e7c17a956ad64678b37819270947ce93'\n",
        "CLIENT_SECRET = 'ee80eaf2b65d4c7d9ed227ea8598847f'\n",
        "\n",
        "# Base64 encode the client ID and client secret\n",
        "client_credentials = f\"{CLIENT_ID}:{CLIENT_SECRET}\"\n",
        "client_credentials_base64 = base64.b64encode(client_credentials.encode())\n",
        "\n",
        "# Request the access token\n",
        "token_url = 'https://accounts.spotify.com/api/token'\n",
        "headers = {\n",
        "    'Authorization': f'Basic {client_credentials_base64.decode()}'\n",
        "}\n",
        "# grant_type parameter is set to ‘client_credentials’ to indicate that the application is requesting an access token for the client credentials flow:\n",
        "data = {\n",
        "    'grant_type': 'client_credentials'\n",
        "}\n",
        "response = requests.post(token_url, data=data, headers=headers)\n",
        "\n",
        "if response.status_code == 200:\n",
        "    access_token = response.json()['access_token']\n",
        "    print(\"Access token obtained successfully.\")\n",
        "else:\n",
        "    print(\"Error obtaining access token.\")\n",
        "    exit()"
      ]
    },
    {
      "cell_type": "code",
      "source": [
        "#Install Spotipy library: a Python library providing access to Spotify’s web API.\n",
        "!pip install Spotipy"
      ],
      "metadata": {
        "colab": {
          "base_uri": "https://localhost:8080/"
        },
        "id": "YGlepcakE-u4",
        "outputId": "88e06059-a4f9-4ea5-9e56-80a33b330731"
      },
      "execution_count": 2,
      "outputs": [
        {
          "output_type": "stream",
          "name": "stdout",
          "text": [
            "Collecting Spotipy\n",
            "  Downloading spotipy-2.23.0-py3-none-any.whl (29 kB)\n",
            "Collecting redis>=3.5.3 (from Spotipy)\n",
            "  Downloading redis-5.0.0-py3-none-any.whl (250 kB)\n",
            "\u001b[2K     \u001b[90m━━━━━━━━━━━━━━━━━━━━━━━━━━━━━━━━━━━━━━━\u001b[0m \u001b[32m250.1/250.1 kB\u001b[0m \u001b[31m5.2 MB/s\u001b[0m eta \u001b[36m0:00:00\u001b[0m\n",
            "\u001b[?25hRequirement already satisfied: requests>=2.25.0 in /usr/local/lib/python3.10/dist-packages (from Spotipy) (2.31.0)\n",
            "Requirement already satisfied: six>=1.15.0 in /usr/local/lib/python3.10/dist-packages (from Spotipy) (1.16.0)\n",
            "Requirement already satisfied: urllib3>=1.26.0 in /usr/local/lib/python3.10/dist-packages (from Spotipy) (2.0.4)\n",
            "Requirement already satisfied: async-timeout>=4.0.2 in /usr/local/lib/python3.10/dist-packages (from redis>=3.5.3->Spotipy) (4.0.3)\n",
            "Requirement already satisfied: charset-normalizer<4,>=2 in /usr/local/lib/python3.10/dist-packages (from requests>=2.25.0->Spotipy) (3.2.0)\n",
            "Requirement already satisfied: idna<4,>=2.5 in /usr/local/lib/python3.10/dist-packages (from requests>=2.25.0->Spotipy) (3.4)\n",
            "Requirement already satisfied: certifi>=2017.4.17 in /usr/local/lib/python3.10/dist-packages (from requests>=2.25.0->Spotipy) (2023.7.22)\n",
            "Installing collected packages: redis, Spotipy\n",
            "Successfully installed Spotipy-2.23.0 redis-5.0.0\n"
          ]
        }
      ]
    },
    {
      "cell_type": "code",
      "source": [
        "# Function to get music data from any playlist on Spotify\n",
        "import pandas as pd\n",
        "import spotipy\n",
        "from spotipy.oauth2 import SpotifyOAuth\n",
        "\n",
        "def get_trending_playlist_data(playlist_id, access_token):\n",
        "    # Set up Spotipy with the access token\n",
        "    sp = spotipy.Spotify(auth=access_token)\n",
        "\n",
        "    # Get the tracks from the playlist\n",
        "    playlist_tracks = sp.playlist_tracks(playlist_id, fields='items(track(id, name, artists, album(id, name)))')\n",
        "\n",
        "    # Extract relevant information and store in a list of dictionaries\n",
        "    music_data = []\n",
        "    for track_info in playlist_tracks['items']:\n",
        "        track = track_info['track']\n",
        "        track_name = track['name']\n",
        "        artists = ', '.join([artist['name'] for artist in track['artists']])\n",
        "        album_name = track['album']['name']\n",
        "        album_id = track['album']['id']\n",
        "        track_id = track['id']\n",
        "\n",
        "        # Get audio features for the track\n",
        "        audio_features = sp.audio_features(track_id)[0] if track_id != 'Not available' else None\n",
        "\n",
        "        # Get release date of the album\n",
        "        try:\n",
        "            album_info = sp.album(album_id) if album_id != 'Not available' else None\n",
        "            release_date = album_info['release_date'] if album_info else None\n",
        "        except:\n",
        "            release_date = None\n",
        "\n",
        "        # Get popularity of the track\n",
        "        try:\n",
        "            track_info = sp.track(track_id) if track_id != 'Not available' else None\n",
        "            popularity = track_info['popularity'] if track_info else None\n",
        "        except:\n",
        "            popularity = None\n",
        "\n",
        "        # Add additional track information to the track data\n",
        "        track_data = {\n",
        "            'Track Name': track_name,\n",
        "            'Artists': artists,\n",
        "            'Album Name': album_name,\n",
        "            'Album ID': album_id,\n",
        "            'Track ID': track_id,\n",
        "            'Popularity': popularity,\n",
        "            'Release Date': release_date,\n",
        "            'Duration (ms)': audio_features['duration_ms'] if audio_features else None,\n",
        "            'Explicit': track_info.get('explicit', None),\n",
        "            'External URLs': track_info.get('external_urls', {}).get('spotify', None),\n",
        "            'Danceability': audio_features['danceability'] if audio_features else None,\n",
        "            'Energy': audio_features['energy'] if audio_features else None,\n",
        "            'Key': audio_features['key'] if audio_features else None,\n",
        "            'Loudness': audio_features['loudness'] if audio_features else None,\n",
        "            'Mode': audio_features['mode'] if audio_features else None,\n",
        "            'Speechiness': audio_features['speechiness'] if audio_features else None,\n",
        "            'Acousticness': audio_features['acousticness'] if audio_features else None,\n",
        "            'Instrumentalness': audio_features['instrumentalness'] if audio_features else None,\n",
        "            'Liveness': audio_features['liveness'] if audio_features else None,\n",
        "            'Valence': audio_features['valence'] if audio_features else None,\n",
        "            'Tempo': audio_features['tempo'] if audio_features else None,\n",
        "            # Add more attributes as needed\n",
        "        }\n",
        "\n",
        "        music_data.append(track_data)\n",
        "\n",
        "    # Create a pandas DataFrame from the list of dictionaries\n",
        "    df = pd.DataFrame(music_data)\n",
        "\n",
        "    return df"
      ],
      "metadata": {
        "id": "lHrLmnBGDoMo"
      },
      "execution_count": 3,
      "outputs": []
    },
    {
      "cell_type": "code",
      "source": [
        "playlist_id = '37i9dQZF1DWYBO1MoTDhZI'\n",
        "\n",
        "# Call the function to get the music data from the playlist and store it in a DataFrame\n",
        "music_df = get_trending_playlist_data(playlist_id, access_token)\n",
        "\n",
        "# Display the DataFrame\n",
        "print(music_df)"
      ],
      "metadata": {
        "colab": {
          "base_uri": "https://localhost:8080/"
        },
        "id": "e2nZGIuwFPX9",
        "outputId": "667dd625-8635-491d-d9e3-b1f0ae644ad8"
      },
      "execution_count": 4,
      "outputs": [
        {
          "output_type": "stream",
          "name": "stdout",
          "text": [
            "                              Track Name                         Artists  \\\n",
            "0                              Good Days                             SZA   \n",
            "1                             Doin' Time                    Lana Del Rey   \n",
            "2                              The Spins                      Mac Miller   \n",
            "3                                Melting                      Kali Uchis   \n",
            "4                             Back On 74                          Jungle   \n",
            "..                                   ...                             ...   \n",
            "74                   If We Ever Broke Up                    Mae Stephens   \n",
            "75  Big Energy (feat. DJ Khaled) - Remix  Latto, Mariah Carey, DJ Khaled   \n",
            "76                           Tom's Diner  AnnenMayKantereit, Giant Rooks   \n",
            "77            edamame (feat. Rich Brian)               bbno$, Rich Brian   \n",
            "78                        Baby I'm Yours                Breakbot, Irfane   \n",
            "\n",
            "                              Album Name                Album ID  \\\n",
            "0                              Good Days  781cKhbTPwLnPmo9BALQl7   \n",
            "1                             Doin' Time  3MWgjF21GhWr8fWExwnyMu   \n",
            "2                      K.I.D.S. (Deluxe)  6TFm9KGW7Lbxrl2Zsg4X9R   \n",
            "3                               Por Vida  6f5gAJpM85TE6aQ81h46T5   \n",
            "4                                Volcano  5xnXOCf5aZgZ43DgGN4EDv   \n",
            "..                                   ...                     ...   \n",
            "74                   If We Ever Broke Up  4eadTzshRApGna6Ppz5XwO   \n",
            "75  Big Energy (feat. DJ Khaled) [Remix]  7yQ3QGLWN0YvBuImU7bVc3   \n",
            "76                           Tom's Diner  7ClPGbXY81egfNn8H1hDAg   \n",
            "77            edamame (feat. Rich Brian)  1YrACh9xDRGpjrkdWz4MfP   \n",
            "78                          By Your Side  6C9yWt9DLFJixQjOZIkaAT   \n",
            "\n",
            "                  Track ID  Popularity Release Date  Duration (ms)  Explicit  \\\n",
            "0   3YJJjQPAbDT7mGpX3WtQ9A          81   2020-12-25         279204      True   \n",
            "1   6ECwimRuwOxwQv5VXoN5Mt          61   2019-05-17         201997     False   \n",
            "2   7FAFkQQZFeNwOFzTrSDFIh          84   2010-08-13         195873      True   \n",
            "3   2kSb3wYSOV996xA2NSmpck          83   2015-02-04         208854     False   \n",
            "4   19kHhX6f6EfLU7rcO3RqjO          74   2023-08-11         209483     False   \n",
            "..                     ...         ...          ...            ...       ...   \n",
            "74  6maTPqynTmrkWIralgGaoP          85   2023-02-10         142759      True   \n",
            "75  4nmD4awtUUCC4AGETpUiuP          69   2022-03-31         181666      True   \n",
            "76  0oA9wBGDY4uyILLg4GymWP          76   2019-06-28         269333     False   \n",
            "77  1uMHCAyGmHqyygoNRuo7MV          76   2021-07-24         133707      True   \n",
            "78  0tZkVZ9DeAa0MNK2gY5NtV          69   2012-09-17         215507     False   \n",
            "\n",
            "                                        External URLs  ...  Energy  Key  \\\n",
            "0   https://open.spotify.com/track/3YJJjQPAbDT7mGp...  ...   0.655    1   \n",
            "1   https://open.spotify.com/track/6ECwimRuwOxwQv5...  ...   0.693    7   \n",
            "2   https://open.spotify.com/track/7FAFkQQZFeNwOFz...  ...   0.766    9   \n",
            "3   https://open.spotify.com/track/2kSb3wYSOV996xA...  ...   0.479    8   \n",
            "4   https://open.spotify.com/track/19kHhX6f6EfLU7r...  ...   0.761   10   \n",
            "..                                                ...  ...     ...  ...   \n",
            "74  https://open.spotify.com/track/6maTPqynTmrkWIr...  ...   0.732    7   \n",
            "75  https://open.spotify.com/track/4nmD4awtUUCC4AG...  ...   0.771   11   \n",
            "76  https://open.spotify.com/track/0oA9wBGDY4uyILL...  ...   0.428    6   \n",
            "77  https://open.spotify.com/track/1uMHCAyGmHqyygo...  ...   0.848    4   \n",
            "78  https://open.spotify.com/track/0tZkVZ9DeAa0MNK...  ...   0.792    2   \n",
            "\n",
            "    Loudness  Mode  Speechiness  Acousticness  Instrumentalness  Liveness  \\\n",
            "0     -8.370     0       0.0583        0.4990          0.000008    0.6880   \n",
            "1     -5.812     0       0.0434        0.3420          0.000708    0.0876   \n",
            "2     -3.894     0       0.0377        0.0135          0.000000    0.0785   \n",
            "3     -7.776     1       0.0355        0.1790          0.080300    0.1060   \n",
            "4     -7.282     0       0.1750        0.2070          0.000147    0.2690   \n",
            "..       ...   ...          ...           ...               ...       ...   \n",
            "74    -3.982     1       0.0427        0.6210          0.000013    0.0908   \n",
            "75    -3.688     0       0.0939        0.0385          0.000000    0.1330   \n",
            "76    -8.107     0       0.1350        0.3760          0.000344    0.3550   \n",
            "77    -4.704     0       0.1150        0.0230          0.000162    0.0265   \n",
            "78    -3.755     0       0.0668        0.7260          0.000006    0.1220   \n",
            "\n",
            "    Valence    Tempo  \n",
            "0     0.412  121.002  \n",
            "1     0.446  144.936  \n",
            "2     0.550  127.006  \n",
            "3     0.303  115.263  \n",
            "4     0.194  146.003  \n",
            "..      ...      ...  \n",
            "74    0.960  115.955  \n",
            "75    0.715  106.021  \n",
            "76    0.334   98.222  \n",
            "77    0.684  106.032  \n",
            "78    0.758  118.050  \n",
            "\n",
            "[79 rows x 21 columns]\n"
          ]
        }
      ]
    },
    {
      "cell_type": "code",
      "source": [
        "#Checking if the data has any null values or not:\n",
        "print(music_df.isnull().sum())"
      ],
      "metadata": {
        "colab": {
          "base_uri": "https://localhost:8080/"
        },
        "id": "kNoM0VMoGnDq",
        "outputId": "2075faa1-e0a8-4d32-d203-e3c4923c07a5"
      },
      "execution_count": 5,
      "outputs": [
        {
          "output_type": "stream",
          "name": "stdout",
          "text": [
            "Track Name          0\n",
            "Artists             0\n",
            "Album Name          0\n",
            "Album ID            0\n",
            "Track ID            0\n",
            "Popularity          0\n",
            "Release Date        0\n",
            "Duration (ms)       0\n",
            "Explicit            0\n",
            "External URLs       0\n",
            "Danceability        0\n",
            "Energy              0\n",
            "Key                 0\n",
            "Loudness            0\n",
            "Mode                0\n",
            "Speechiness         0\n",
            "Acousticness        0\n",
            "Instrumentalness    0\n",
            "Liveness            0\n",
            "Valence             0\n",
            "Tempo               0\n",
            "dtype: int64\n"
          ]
        }
      ]
    },
    {
      "cell_type": "markdown",
      "source": [
        "Importing necessary Python libraries to build the music recommendation system:"
      ],
      "metadata": {
        "id": "3TskPRPzc0xC"
      }
    },
    {
      "cell_type": "code",
      "source": [
        "import pandas as pd\n",
        "import numpy as np\n",
        "from sklearn.model_selection import train_test_split\n",
        "from sklearn.preprocessing import MinMaxScaler\n",
        "from datetime import datetime\n",
        "from sklearn.metrics.pairwise import cosine_similarity\n",
        "\n",
        "data = music_df"
      ],
      "metadata": {
        "id": "J4HVbsYHGux-"
      },
      "execution_count": 6,
      "outputs": []
    },
    {
      "cell_type": "code",
      "source": [
        "# Function to calculate weighted popularity scores based on release date\n",
        "def calculate_weighted_popularity(release_date):\n",
        "    # Convert the release date to datetime object\n",
        "    release_date = datetime.strptime(release_date, '%Y-%m-%d')\n",
        "\n",
        "    # Calculate the time span between release date and today's date to perform arithmetic operations with dates\n",
        "    time_span = datetime.now() - release_date\n",
        "\n",
        "    # Calculate the weighted popularity score based on time span\n",
        "    weight = 1 / (time_span.days + 1)\n",
        "    return weight\n",
        "\n",
        "    # * This formula ensures that the weight decreases as the time span between the release date and today increases.\n",
        "    # * More recent releases will have a higher weight, while older releases will have a lower weight.\n",
        "    # * Combining this weighted popularity score with other factors in a recommendation system will result in:\n",
        "    #      - recent tracks having a more significant impact on the final recommendations reflecting users’ potential interest in newer music.\n",
        ""
      ],
      "metadata": {
        "id": "6jgFwx2UG6lW"
      },
      "execution_count": 7,
      "outputs": []
    },
    {
      "cell_type": "code",
      "source": [
        "# Normalize the music features using Min-Max scaling\n",
        "scaler = MinMaxScaler()\n",
        "music_features = music_df[['Danceability', 'Energy', 'Key',\n",
        "                           'Loudness', 'Mode', 'Speechiness', 'Acousticness',\n",
        "                           'Instrumentalness', 'Liveness', 'Valence', 'Tempo']].values\n",
        "music_features_scaled = scaler.fit_transform(music_features)"
      ],
      "metadata": {
        "id": "aJUI89a7G-YV"
      },
      "execution_count": 8,
      "outputs": []
    },
    {
      "cell_type": "markdown",
      "source": [
        "Since I will be creating a hybrid recommendation system for music recommendations, the first approach will be based on music audio features, and the second approach will be based on recommending music based on weighted popularity.\n",
        "\n"
      ],
      "metadata": {
        "id": "ah8GEnMzfOBl"
      }
    },
    {
      "cell_type": "code",
      "source": [
        "# a function to get content-based recommendations based on music features\n",
        "def content_based_recommendations(input_song_name, num_recommendations=5):\n",
        "    if input_song_name not in music_df['Track Name'].values:\n",
        "        print(f\"'{input_song_name}' not found in the dataset. Please enter a valid song name.\")\n",
        "        return\n",
        "\n",
        "    # Get the index of the input song in the music DataFrame\n",
        "    input_song_index = music_df[music_df['Track Name'] == input_song_name].index[0]\n",
        "\n",
        "    # Calculate the similarity scores based on music features (cosine similarity)\n",
        "    similarity_scores = cosine_similarity([music_features_scaled[input_song_index]], music_features_scaled)\n",
        "\n",
        "    # Get the indices of the most similar songs\n",
        "    similar_song_indices = similarity_scores.argsort()[0][::-1][1:num_recommendations + 1]\n",
        "\n",
        "    # Get the names of the most similar songs based on content-based filtering\n",
        "    content_based_recommendations = music_df.iloc[similar_song_indices][['Track Name', 'Artists', 'Album Name', 'Release Date', 'Popularity']]\n",
        "\n",
        "    return content_based_recommendations"
      ],
      "metadata": {
        "id": "YJ8ZFE3qHEIu"
      },
      "execution_count": 9,
      "outputs": []
    },
    {
      "cell_type": "code",
      "source": [
        "# a function to get hybrid recommendations based on weighted popularity\n",
        "def hybrid_recommendations(input_song_name, num_recommendations=5, alpha=0.5):\n",
        "    if input_song_name not in music_df['Track Name'].values:\n",
        "        print(f\"'{input_song_name}' not found in the dataset. Please enter a valid song name.\")\n",
        "        return\n",
        "\n",
        "    # Get content-based recommendations\n",
        "    content_based_rec = content_based_recommendations(input_song_name, num_recommendations)\n",
        "\n",
        "    # Get the popularity score of the input song\n",
        "    popularity_score = music_df.loc[music_df['Track Name'] == input_song_name, 'Popularity'].values[0]\n",
        "\n",
        "    # Calculate the weighted popularity score\n",
        "    weighted_popularity_score = popularity_score * calculate_weighted_popularity(music_df.loc[music_df['Track Name'] == input_song_name, 'Release Date'].values[0])\n",
        "\n",
        "    # Combine content-based and popularity-based recommendations based on weighted popularity\n",
        "    hybrid_recommendations = content_based_rec\n",
        "    hybrid_recommendations = hybrid_recommendations.append({\n",
        "        'Track Name': input_song_name,\n",
        "        'Artists': music_df.loc[music_df['Track Name'] == input_song_name, 'Artists'].values[0],\n",
        "        'Album Name': music_df.loc[music_df['Track Name'] == input_song_name, 'Album Name'].values[0],\n",
        "        'Release Date': music_df.loc[music_df['Track Name'] == input_song_name, 'Release Date'].values[0],\n",
        "        'Popularity': weighted_popularity_score\n",
        "    }, ignore_index=True)\n",
        "\n",
        "    # Sort the hybrid recommendations based on weighted popularity score\n",
        "    hybrid_recommendations = hybrid_recommendations.sort_values(by='Popularity', ascending=False)\n",
        "\n",
        "    # Remove the input song from the recommendations\n",
        "    hybrid_recommendations = hybrid_recommendations[hybrid_recommendations['Track Name'] != input_song_name]\n",
        "\n",
        "\n",
        "    return hybrid_recommendations"
      ],
      "metadata": {
        "id": "IFmz1eMmHMzO"
      },
      "execution_count": 10,
      "outputs": []
    },
    {
      "cell_type": "code",
      "source": [
        "input_song_name = \"Good Days\"\n",
        "recommendations = hybrid_recommendations(input_song_name, num_recommendations=5)\n",
        "print(f\"Hybrid recommended songs for '{input_song_name}':\")\n",
        "print(recommendations)"
      ],
      "metadata": {
        "colab": {
          "base_uri": "https://localhost:8080/"
        },
        "id": "x6E3ElIUHSiY",
        "outputId": "920caf23-3377-45ad-e52d-77fe8d095978"
      },
      "execution_count": 11,
      "outputs": [
        {
          "output_type": "stream",
          "name": "stdout",
          "text": [
            "Hybrid recommended songs for 'Good Days':\n",
            "                          Track Name  \\\n",
            "3                   DE LUNES A LUNES   \n",
            "4  Slide (feat. Frank Ocean & Migos)   \n",
            "1                    California Soul   \n",
            "0                            Worship   \n",
            "2                             Silvia   \n",
            "\n",
            "                                       Artists              Album Name  \\\n",
            "3                Manuel Turizo, Grupo Frontera        DE LUNES A LUNES   \n",
            "4  Calvin Harris, Frank Ocean, Migos, Funk Wav  Funk Wav Bounces Vol.1   \n",
            "1                                 Marlena Shaw       The Spice Of Life   \n",
            "0                                  Jon Batiste       World Music Radio   \n",
            "2                                 Sofía Valdés                  Silvia   \n",
            "\n",
            "  Release Date  Popularity  \n",
            "3   2023-08-24        81.0  \n",
            "4   2017-06-30        76.0  \n",
            "1   1969-01-01        69.0  \n",
            "0   2023-08-18        58.0  \n",
            "2   2023-08-11        53.0  \n"
          ]
        },
        {
          "output_type": "stream",
          "name": "stderr",
          "text": [
            "<ipython-input-10-3de633f34e34>:18: FutureWarning: The frame.append method is deprecated and will be removed from pandas in a future version. Use pandas.concat instead.\n",
            "  hybrid_recommendations = hybrid_recommendations.append({\n"
          ]
        }
      ]
    }
  ]
}